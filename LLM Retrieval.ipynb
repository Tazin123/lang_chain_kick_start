{
 "cells": [
  {
   "cell_type": "code",
   "execution_count": 13,
   "metadata": {},
   "outputs": [
    {
     "name": "stdout",
     "output_type": "stream",
     "text": [
      "Requirement already satisfied: langchain-openai in /usr/local/lib/python3.8/dist-packages (0.1.25)\n",
      "Requirement already satisfied: langchain-core in /usr/local/lib/python3.8/dist-packages (0.2.41)\n",
      "Requirement already satisfied: langchain-community in /usr/local/lib/python3.8/dist-packages (0.2.17)\n",
      "Requirement already satisfied: openai in /usr/local/lib/python3.8/dist-packages (1.52.2)\n",
      "Requirement already satisfied: tiktoken in /usr/local/lib/python3.8/dist-packages (0.7.0)\n",
      "Requirement already satisfied: packaging<25,>=23.2 in /root/.local/lib/python3.8/site-packages (from langchain-core) (24.1)\n",
      "Requirement already satisfied: typing-extensions>=4.7 in /root/.local/lib/python3.8/site-packages (from langchain-core) (4.12.2)\n",
      "Requirement already satisfied: langsmith<0.2.0,>=0.1.112 in /usr/local/lib/python3.8/dist-packages (from langchain-core) (0.1.137)\n",
      "Requirement already satisfied: tenacity!=8.4.0,<9.0.0,>=8.1.0 in /usr/local/lib/python3.8/dist-packages (from langchain-core) (8.5.0)\n",
      "Requirement already satisfied: pydantic<3,>=1; python_full_version < \"3.12.4\" in /usr/local/lib/python3.8/dist-packages (from langchain-core) (2.9.2)\n",
      "Requirement already satisfied: jsonpatch<2.0,>=1.33 in /usr/local/lib/python3.8/dist-packages (from langchain-core) (1.33)\n",
      "Requirement already satisfied: PyYAML>=5.3 in /usr/local/lib/python3.8/dist-packages (from langchain-core) (6.0.2)\n",
      "Requirement already satisfied: aiohttp<4.0.0,>=3.8.3 in /usr/local/lib/python3.8/dist-packages (from langchain-community) (3.10.10)\n",
      "Requirement already satisfied: langchain<0.3.0,>=0.2.16 in /usr/local/lib/python3.8/dist-packages (from langchain-community) (0.2.16)\n",
      "Requirement already satisfied: requests<3,>=2 in /usr/local/lib/python3.8/dist-packages (from langchain-community) (2.32.3)\n",
      "Requirement already satisfied: dataclasses-json<0.7,>=0.5.7 in /usr/local/lib/python3.8/dist-packages (from langchain-community) (0.6.7)\n",
      "Requirement already satisfied: numpy<2,>=1; python_version < \"3.12\" in /usr/local/lib/python3.8/dist-packages (from langchain-community) (1.24.4)\n",
      "Requirement already satisfied: SQLAlchemy<3,>=1.4 in /usr/local/lib/python3.8/dist-packages (from langchain-community) (2.0.36)\n",
      "Requirement already satisfied: jiter<1,>=0.4.0 in /usr/local/lib/python3.8/dist-packages (from openai) (0.6.1)\n",
      "Requirement already satisfied: tqdm>4 in /usr/local/lib/python3.8/dist-packages (from openai) (4.66.5)\n",
      "Requirement already satisfied: distro<2,>=1.7.0 in /usr/local/lib/python3.8/dist-packages (from openai) (1.9.0)\n",
      "Requirement already satisfied: httpx<1,>=0.23.0 in /usr/local/lib/python3.8/dist-packages (from openai) (0.27.2)\n",
      "Requirement already satisfied: anyio<5,>=3.5.0 in /usr/local/lib/python3.8/dist-packages (from openai) (4.5.2)\n",
      "Requirement already satisfied: sniffio in /usr/local/lib/python3.8/dist-packages (from openai) (1.3.1)\n",
      "Requirement already satisfied: regex>=2022.1.18 in /usr/local/lib/python3.8/dist-packages (from tiktoken) (2024.9.11)\n",
      "Requirement already satisfied: orjson<4.0.0,>=3.9.14 in /usr/local/lib/python3.8/dist-packages (from langsmith<0.2.0,>=0.1.112->langchain-core) (3.10.10)\n",
      "Requirement already satisfied: requests-toolbelt<2.0.0,>=1.0.0 in /usr/local/lib/python3.8/dist-packages (from langsmith<0.2.0,>=0.1.112->langchain-core) (1.0.0)\n",
      "Requirement already satisfied: pydantic-core==2.23.4 in /usr/local/lib/python3.8/dist-packages (from pydantic<3,>=1; python_full_version < \"3.12.4\"->langchain-core) (2.23.4)\n",
      "Requirement already satisfied: annotated-types>=0.6.0 in /usr/local/lib/python3.8/dist-packages (from pydantic<3,>=1; python_full_version < \"3.12.4\"->langchain-core) (0.7.0)\n",
      "Requirement already satisfied: jsonpointer>=1.9 in /usr/local/lib/python3.8/dist-packages (from jsonpatch<2.0,>=1.33->langchain-core) (3.0.0)\n",
      "Requirement already satisfied: yarl<2.0,>=1.12.0 in /usr/local/lib/python3.8/dist-packages (from aiohttp<4.0.0,>=3.8.3->langchain-community) (1.15.2)\n",
      "Requirement already satisfied: attrs>=17.3.0 in /usr/local/lib/python3.8/dist-packages (from aiohttp<4.0.0,>=3.8.3->langchain-community) (24.2.0)\n",
      "Requirement already satisfied: aiosignal>=1.1.2 in /usr/local/lib/python3.8/dist-packages (from aiohttp<4.0.0,>=3.8.3->langchain-community) (1.3.1)\n",
      "Requirement already satisfied: multidict<7.0,>=4.5 in /usr/local/lib/python3.8/dist-packages (from aiohttp<4.0.0,>=3.8.3->langchain-community) (6.1.0)\n",
      "Requirement already satisfied: async-timeout<5.0,>=4.0; python_version < \"3.11\" in /usr/local/lib/python3.8/dist-packages (from aiohttp<4.0.0,>=3.8.3->langchain-community) (4.0.3)\n",
      "Requirement already satisfied: aiohappyeyeballs>=2.3.0 in /usr/local/lib/python3.8/dist-packages (from aiohttp<4.0.0,>=3.8.3->langchain-community) (2.4.3)\n",
      "Requirement already satisfied: frozenlist>=1.1.1 in /usr/local/lib/python3.8/dist-packages (from aiohttp<4.0.0,>=3.8.3->langchain-community) (1.5.0)\n",
      "Requirement already satisfied: langchain-text-splitters<0.3.0,>=0.2.0 in /usr/local/lib/python3.8/dist-packages (from langchain<0.3.0,>=0.2.16->langchain-community) (0.2.4)\n",
      "Requirement already satisfied: idna<4,>=2.5 in /usr/lib/python3/dist-packages (from requests<3,>=2->langchain-community) (2.8)\n",
      "Requirement already satisfied: urllib3<3,>=1.21.1 in /usr/lib/python3/dist-packages (from requests<3,>=2->langchain-community) (1.25.8)\n",
      "Requirement already satisfied: charset-normalizer<4,>=2 in /usr/local/lib/python3.8/dist-packages (from requests<3,>=2->langchain-community) (3.4.0)\n",
      "Requirement already satisfied: certifi>=2017.4.17 in /usr/lib/python3/dist-packages (from requests<3,>=2->langchain-community) (2019.11.28)\n",
      "Requirement already satisfied: marshmallow<4.0.0,>=3.18.0 in /usr/local/lib/python3.8/dist-packages (from dataclasses-json<0.7,>=0.5.7->langchain-community) (3.22.0)\n",
      "Requirement already satisfied: typing-inspect<1,>=0.4.0 in /usr/local/lib/python3.8/dist-packages (from dataclasses-json<0.7,>=0.5.7->langchain-community) (0.9.0)\n",
      "Requirement already satisfied: greenlet!=0.4.17; python_version < \"3.13\" and (platform_machine == \"aarch64\" or (platform_machine == \"ppc64le\" or (platform_machine == \"x86_64\" or (platform_machine == \"amd64\" or (platform_machine == \"AMD64\" or (platform_machine == \"win32\" or platform_machine == \"WIN32\")))))) in /usr/lib/python3/dist-packages (from SQLAlchemy<3,>=1.4->langchain-community) (0.4.15)\n",
      "Requirement already satisfied: httpcore==1.* in /usr/local/lib/python3.8/dist-packages (from httpx<1,>=0.23.0->openai) (1.0.6)\n",
      "Requirement already satisfied: exceptiongroup>=1.0.2; python_version < \"3.11\" in /usr/local/lib/python3.8/dist-packages (from anyio<5,>=3.5.0->openai) (1.2.2)\n",
      "Requirement already satisfied: propcache>=0.2.0 in /usr/local/lib/python3.8/dist-packages (from yarl<2.0,>=1.12.0->aiohttp<4.0.0,>=3.8.3->langchain-community) (0.2.0)\n",
      "Requirement already satisfied: mypy-extensions>=0.3.0 in /usr/local/lib/python3.8/dist-packages (from typing-inspect<1,>=0.4.0->dataclasses-json<0.7,>=0.5.7->langchain-community) (1.0.0)\n",
      "Requirement already satisfied: h11<0.15,>=0.13 in /usr/local/lib/python3.8/dist-packages (from httpcore==1.*->httpx<1,>=0.23.0->openai) (0.14.0)\n"
     ]
    }
   ],
   "source": [
    "!pip install langchain-openai langchain-core langchain-community openai tiktoken"
   ]
  },
  {
   "cell_type": "code",
   "execution_count": 19,
   "metadata": {},
   "outputs": [],
   "source": [
    "from langchain_openai import AzureOpenAIEmbeddings, AzureOpenAI  # Changed to AzureOpenAI\n",
    "from langchain_community.vectorstores import FAISS\n",
    "from langchain_core.documents import Document\n",
    "\n",
    "# Setup embedding\n",
    "embedding = AzureOpenAIEmbeddings(\n",
    "    azure_endpoint=\"Type your Azure Endpoint\",\n",
    "    openai_api_key=\"Type your Azure Open API Key\",\n",
    "    azure_deployment=\"text-embedding-ada-002\",\n",
    "    openai_api_version=\"2024-02-15-preview\"\n",
    ")\n",
    "\n",
    "# Setup Azure OpenAI with the correct model type\n",
    "llm = AzureOpenAI(  # Changed to non-chat model\n",
    "    azure_endpoint=\"Type your Azure Endpoint\",\n",
    "    openai_api_key=\"Type your Azure OpenAPI Key\",\n",
    "    azure_deployment=\"gpt-35-turbo-instruct\",\n",
    "    openai_api_version=\"2024-02-15-preview\",\n",
    "    temperature=0\n",
    ")"
   ]
  },
  {
   "cell_type": "code",
   "execution_count": 20,
   "metadata": {},
   "outputs": [
    {
     "name": "stdout",
     "output_type": "stream",
     "text": [
      "Number of vectors: 3\n"
     ]
    }
   ],
   "source": [
    "# Create documents with metadata\n",
    "texts = [\n",
    "    Document(\n",
    "        page_content=\"The Amanita phalloides has a large and imposing epigeous (aboveground) fruiting body (basidiocarp).\",\n",
    "        metadata={\"source\": \"text1\", \"page\": 1}\n",
    "    ),\n",
    "    Document(\n",
    "        page_content=\"A mushroom with a large fruiting body is the Amanita phalloides. Some varieties are all-white.\",\n",
    "        metadata={\"source\": \"text2\", \"page\": 1}\n",
    "    ),\n",
    "    Document(\n",
    "        page_content=\"A. phalloides, a.k.a Death Cap, is one of the most poisonous of all known mushrooms.\",\n",
    "        metadata={\"source\": \"text3\", \"page\": 1}\n",
    "    )\n",
    "]\n",
    "\n",
    "# Create vector store\n",
    "vectordb = FAISS.from_documents(texts, embedding)\n",
    "print(f\"Number of vectors: {vectordb.index.ntotal}\")"
   ]
  },
  {
   "cell_type": "code",
   "execution_count": 21,
   "metadata": {},
   "outputs": [
    {
     "name": "stdout",
     "output_type": "stream",
     "text": [
      "Regular Search Results:\n",
      "\n",
      "Regular: A mushroom with a large fruiting body is the Amanita phalloides. Some varieties are all-white.\n",
      "\n",
      "Regular: The Amanita phalloides has a large and imposing epigeous (aboveground) fruiting body (basidiocarp).\n",
      "\n",
      "MMR Search Results:\n",
      "\n",
      "MMR: A mushroom with a large fruiting body is the Amanita phalloides. Some varieties are all-white.\n",
      "\n",
      "MMR: A. phalloides, a.k.a Death Cap, is one of the most poisonous of all known mushrooms.\n"
     ]
    }
   ],
   "source": [
    "# Test different search methods\n",
    "question = \"Tell me about all-white mushrooms with large fruiting bodies\"\n",
    "\n",
    "# Regular search\n",
    "print(\"Regular Search Results:\")\n",
    "regular_results = vectordb.similarity_search(question, k=2)\n",
    "for doc in regular_results:\n",
    "    print(\"\\nRegular:\", doc.page_content)\n",
    "\n",
    "# MMR search\n",
    "print(\"\\nMMR Search Results:\")\n",
    "mmr_results = vectordb.max_marginal_relevance_search(question, k=2, fetch_k=3)\n",
    "for doc in mmr_results:\n",
    "    print(\"\\nMMR:\", doc.page_content)"
   ]
  },
  {
   "cell_type": "code",
   "execution_count": 22,
   "metadata": {},
   "outputs": [
    {
     "name": "stdout",
     "output_type": "stream",
     "text": [
      "\n",
      "Searching with metadata filter for 'text3':\n",
      "\n",
      "Results with metadata filter:\n",
      "\n",
      "Content: A. phalloides, a.k.a Death Cap, is one of the most poisonous of all known mushrooms.\n",
      "Metadata: {'source': 'text3', 'page': 1}\n",
      "\n",
      "Searching with metadata filter for page 1:\n",
      "\n",
      "Results with page filter:\n",
      "\n",
      "Content: A. phalloides, a.k.a Death Cap, is one of the most poisonous of all known mushrooms.\n",
      "Metadata: {'source': 'text3', 'page': 1}\n",
      "\n",
      "Content: A mushroom with a large fruiting body is the Amanita phalloides. Some varieties are all-white.\n",
      "Metadata: {'source': 'text2', 'page': 1}\n"
     ]
    }
   ],
   "source": [
    "# Search with metadata filter\n",
    "question = \"Tell me about poisonous mushrooms\"\n",
    "print(\"\\nSearching with metadata filter for 'text3':\")\n",
    "docs = vectordb.similarity_search(\n",
    "    question,\n",
    "    k=2,\n",
    "    filter={\"source\": \"text3\"}\n",
    ")\n",
    "\n",
    "print(\"\\nResults with metadata filter:\")\n",
    "for doc in docs:\n",
    "    print(\"\\nContent:\", doc.page_content)\n",
    "    print(\"Metadata:\", doc.metadata)\n",
    "\n",
    "# Try another metadata filter\n",
    "print(\"\\nSearching with metadata filter for page 1:\")\n",
    "docs_page = vectordb.similarity_search(\n",
    "    question,\n",
    "    k=2,\n",
    "    filter={\"page\": 1}\n",
    ")\n",
    "\n",
    "print(\"\\nResults with page filter:\")\n",
    "for doc in docs_page:\n",
    "    print(\"\\nContent:\", doc.page_content)\n",
    "    print(\"Metadata:\", doc.metadata)"
   ]
  },
  {
   "cell_type": "code",
   "execution_count": 23,
   "metadata": {},
   "outputs": [
    {
     "name": "stdout",
     "output_type": "stream",
     "text": [
      "\n",
      "Original Results:\n",
      "\n",
      "Document: A. phalloides, a.k.a Death Cap, is one of the most poisonous of all known mushrooms.\n",
      "\n",
      "Document: The Amanita phalloides has a large and imposing epigeous (aboveground) fruiting body (basidiocarp).\n",
      "\n",
      "Document: A mushroom with a large fruiting body is the Amanita phalloides. Some varieties are all-white.\n",
      "\n",
      "Compressed Results:\n",
      "\n",
      "Compressed Document: A. phalloides, a.k.a Death Cap, is one of the most poisonous of all known mushrooms.\n",
      "\n",
      "Compressed Document: The Amanita phalloides has a large and imposing epigeous (aboveground) fruiting body (basidiocarp).\n",
      "\n",
      "Compressed Document: A mushroom with a large fruiting body is the Amanita phalloides. Some varieties are all-white.\n"
     ]
    }
   ],
   "source": [
    "# Let's create a simpler version of document compression\n",
    "def compress_docs(docs, question):\n",
    "    compressed = []\n",
    "    for doc in docs:\n",
    "        # Get relevant sentences containing key terms from the question\n",
    "        content = doc.page_content\n",
    "        if any(term.lower() in content.lower() for term in question.split()):\n",
    "            compressed.append(doc)\n",
    "    return compressed\n",
    "\n",
    "try:\n",
    "    # Get base results\n",
    "    base_retriever = vectordb.as_retriever()\n",
    "    base_results = base_retriever.get_relevant_documents(\"What are the characteristics of Death Cap?\")\n",
    "    \n",
    "    print(\"\\nOriginal Results:\")\n",
    "    for doc in base_results:\n",
    "        print(f\"\\nDocument: {doc.page_content}\")\n",
    "    \n",
    "    # Compress results\n",
    "    compressed_results = compress_docs(base_results, \"What are the characteristics of Death Cap?\")\n",
    "    \n",
    "    print(\"\\nCompressed Results:\")\n",
    "    for doc in compressed_results:\n",
    "        print(f\"\\nCompressed Document: {doc.page_content}\")\n",
    "\n",
    "except Exception as e:\n",
    "    print(f\"Error details: {str(e)}\")"
   ]
  },
  {
   "cell_type": "code",
   "execution_count": 24,
   "metadata": {},
   "outputs": [
    {
     "name": "stdout",
     "output_type": "stream",
     "text": [
      "\n",
      "Original MMR Results:\n",
      "\n",
      "Document: A mushroom with a large fruiting body is the Amanita phalloides. Some varieties are all-white.\n",
      "\n",
      "Document: A. phalloides, a.k.a Death Cap, is one of the most poisonous of all known mushrooms.\n",
      "\n",
      "Compressed MMR Results:\n",
      "\n",
      "Compressed Document: A mushroom with a large fruiting body is the Amanita phalloides. Some varieties are all-white.\n",
      "\n",
      "Compressed Document: A. phalloides, a.k.a Death Cap, is one of the most poisonous of all known mushrooms.\n"
     ]
    }
   ],
   "source": [
    "try:\n",
    "    # Get base results with MMR\n",
    "    base_results = vectordb.max_marginal_relevance_search(\n",
    "        \"Tell me about mushroom characteristics\",\n",
    "        k=2,\n",
    "        fetch_k=3\n",
    "    )\n",
    "    \n",
    "    print(\"\\nOriginal MMR Results:\")\n",
    "    for doc in base_results:\n",
    "        print(f\"\\nDocument: {doc.page_content}\")\n",
    "    \n",
    "    # Apply compression\n",
    "    compressed_results = compress_docs(base_results, \"Tell me about mushroom characteristics\")\n",
    "    \n",
    "    print(\"\\nCompressed MMR Results:\")\n",
    "    for doc in compressed_results:\n",
    "        print(f\"\\nCompressed Document: {doc.page_content}\")\n",
    "\n",
    "except Exception as e:\n",
    "    print(f\"Error in combined approach: {str(e)}\")"
   ]
  }
 ],
 "metadata": {
  "kernelspec": {
   "display_name": "Python 3",
   "language": "python",
   "name": "python3"
  },
  "language_info": {
   "codemirror_mode": {
    "name": "ipython",
    "version": 3
   },
   "file_extension": ".py",
   "mimetype": "text/x-python",
   "name": "python",
   "nbconvert_exporter": "python",
   "pygments_lexer": "ipython3",
   "version": "3.8.10"
  }
 },
 "nbformat": 4,
 "nbformat_minor": 2
}

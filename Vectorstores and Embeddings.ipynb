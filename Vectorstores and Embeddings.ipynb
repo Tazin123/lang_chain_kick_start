{
 "cells": [
  {
   "cell_type": "code",
   "execution_count": 1,
   "id": "41ac443b-8642-491f-bdfa-5dd16c7929da",
   "metadata": {},
   "outputs": [
    {
     "name": "stdout",
     "output_type": "stream",
     "text": [
      "Requirement already satisfied: openai in f:\\anaconda\\lib\\site-packages (1.6.1)\n",
      "Requirement already satisfied: langchain-openai in f:\\anaconda\\lib\\site-packages (0.0.2)\n",
      "Requirement already satisfied: anyio<5,>=3.5.0 in f:\\anaconda\\lib\\site-packages (from openai) (4.2.0)\n",
      "Requirement already satisfied: distro<2,>=1.7.0 in f:\\anaconda\\lib\\site-packages (from openai) (1.9.0)\n",
      "Requirement already satisfied: httpx<1,>=0.23.0 in f:\\anaconda\\lib\\site-packages (from openai) (0.27.2)\n",
      "Requirement already satisfied: pydantic<3,>=1.9.0 in f:\\anaconda\\lib\\site-packages (from openai) (2.9.2)\n",
      "Requirement already satisfied: sniffio in f:\\anaconda\\lib\\site-packages (from openai) (1.3.0)\n",
      "Requirement already satisfied: tqdm>4 in f:\\anaconda\\lib\\site-packages (from openai) (4.66.4)\n",
      "Requirement already satisfied: typing-extensions<5,>=4.7 in f:\\anaconda\\lib\\site-packages (from openai) (4.11.0)\n",
      "Requirement already satisfied: langchain-core<0.2,>=0.1.7 in f:\\anaconda\\lib\\site-packages (from langchain-openai) (0.1.23)\n",
      "Requirement already satisfied: numpy<2,>=1 in f:\\anaconda\\lib\\site-packages (from langchain-openai) (1.26.4)\n",
      "Requirement already satisfied: tiktoken<0.6.0,>=0.5.2 in f:\\anaconda\\lib\\site-packages (from langchain-openai) (0.5.2)\n",
      "Requirement already satisfied: idna>=2.8 in f:\\anaconda\\lib\\site-packages (from anyio<5,>=3.5.0->openai) (3.7)\n",
      "Requirement already satisfied: certifi in f:\\anaconda\\lib\\site-packages (from httpx<1,>=0.23.0->openai) (2024.6.2)\n",
      "Requirement already satisfied: httpcore==1.* in f:\\anaconda\\lib\\site-packages (from httpx<1,>=0.23.0->openai) (1.0.6)\n",
      "Requirement already satisfied: h11<0.15,>=0.13 in f:\\anaconda\\lib\\site-packages (from httpcore==1.*->httpx<1,>=0.23.0->openai) (0.14.0)\n",
      "Requirement already satisfied: PyYAML>=5.3 in f:\\anaconda\\lib\\site-packages (from langchain-core<0.2,>=0.1.7->langchain-openai) (6.0.1)\n",
      "Requirement already satisfied: jsonpatch<2.0,>=1.33 in f:\\anaconda\\lib\\site-packages (from langchain-core<0.2,>=0.1.7->langchain-openai) (1.33)\n",
      "Requirement already satisfied: langsmith<0.0.88,>=0.0.87 in f:\\anaconda\\lib\\site-packages (from langchain-core<0.2,>=0.1.7->langchain-openai) (0.0.87)\n",
      "Requirement already satisfied: packaging<24.0,>=23.2 in f:\\anaconda\\lib\\site-packages (from langchain-core<0.2,>=0.1.7->langchain-openai) (23.2)\n",
      "Requirement already satisfied: requests<3,>=2 in f:\\anaconda\\lib\\site-packages (from langchain-core<0.2,>=0.1.7->langchain-openai) (2.32.2)\n",
      "Requirement already satisfied: tenacity<9.0.0,>=8.1.0 in f:\\anaconda\\lib\\site-packages (from langchain-core<0.2,>=0.1.7->langchain-openai) (8.2.2)\n",
      "Requirement already satisfied: annotated-types>=0.6.0 in f:\\anaconda\\lib\\site-packages (from pydantic<3,>=1.9.0->openai) (0.6.0)\n",
      "Requirement already satisfied: pydantic-core==2.23.4 in f:\\anaconda\\lib\\site-packages (from pydantic<3,>=1.9.0->openai) (2.23.4)\n",
      "Requirement already satisfied: regex>=2022.1.18 in f:\\anaconda\\lib\\site-packages (from tiktoken<0.6.0,>=0.5.2->langchain-openai) (2023.10.3)\n",
      "Requirement already satisfied: colorama in f:\\anaconda\\lib\\site-packages (from tqdm>4->openai) (0.4.6)\n",
      "Requirement already satisfied: jsonpointer>=1.9 in f:\\anaconda\\lib\\site-packages (from jsonpatch<2.0,>=1.33->langchain-core<0.2,>=0.1.7->langchain-openai) (2.1)\n",
      "Requirement already satisfied: charset-normalizer<4,>=2 in f:\\anaconda\\lib\\site-packages (from requests<3,>=2->langchain-core<0.2,>=0.1.7->langchain-openai) (2.0.4)\n",
      "Requirement already satisfied: urllib3<3,>=1.21.1 in f:\\anaconda\\lib\\site-packages (from requests<3,>=2->langchain-core<0.2,>=0.1.7->langchain-openai) (2.2.2)\n",
      "Note: you may need to restart the kernel to use updated packages.\n"
     ]
    }
   ],
   "source": [
    "pip install openai langchain-openai"
   ]
  },
  {
   "cell_type": "code",
   "execution_count": 2,
   "id": "442c4e81-03e0-4de8-a053-d5fffd5e63eb",
   "metadata": {
    "scrolled": true
   },
   "outputs": [],
   "source": [
    "from langchain_openai import AzureOpenAIEmbeddings\n",
    "import os\n",
    "os.environ[\"AZURE_OPENAI_API_KEY\"] = \"Type Your OPENAI API key here\"\n",
    "os.environ[\"AZURE_OPENAI_ENDPOINT\"] = \"Type your OPENAI ENDPOINT here\"\n",
    "\n",
    "embedding = AzureOpenAIEmbeddings(\n",
    "    azure_deployment=\"text-embedding-ada-002\"\n",
    ")\n",
    "\n"
   ]
  },
  {
   "cell_type": "code",
   "execution_count": 3,
   "id": "7e09faa3-f614-4c6e-b980-0f3a00b6beff",
   "metadata": {},
   "outputs": [],
   "source": [
    "sentence1 = \"i like dogs\"\n",
    "sentence2 = \"i like canines\"\n",
    "sentence3 = \"the weather is ugly outside\""
   ]
  },
  {
   "cell_type": "code",
   "execution_count": 4,
   "id": "c1d74d2d-a1e3-47b5-b123-2c7f2ea0b793",
   "metadata": {},
   "outputs": [
    {
     "name": "stdout",
     "output_type": "stream",
     "text": [
      "Connection successful!\n"
     ]
    }
   ],
   "source": [
    "import requests\n",
    "from langchain_openai import AzureOpenAIEmbeddings\n",
    "\n",
    "# Test the connection first\n",
    "azure_endpoint = \"Type your OPENAI ENDPOINT here\"  # Replace with your endpoint\n",
    "api_key = \"Type Your OPENAI API key here\"  # Replace with your key\n",
    "\n",
    "# Add error handling and connection test\n",
    "try:\n",
    "    # Initialize with timeout parameter\n",
    "    embedding = AzureOpenAIEmbeddings(\n",
    "        azure_deployment=\"text-embedding-ada-002\",\n",
    "        azure_endpoint=azure_endpoint,\n",
    "        api_key=api_key,\n",
    "        timeout=30  # Add timeout in seconds\n",
    "    )\n",
    "    \n",
    "    # Test with a simple query\n",
    "    test_embedding = embedding.embed_query(\"Test connection\")\n",
    "    print(\"Connection successful!\")\n",
    "    \n",
    "except Exception as e:\n",
    "    print(f\"Connection error: {str(e)}\")"
   ]
  },
  {
   "cell_type": "code",
   "execution_count": 5,
   "id": "f0902bb4-5340-40ba-8dbe-77a9804c8821",
   "metadata": {
    "scrolled": true
   },
   "outputs": [],
   "source": [
    "embedding1 = embedding.embed_query(sentence1)\n",
    "embedding2 = embedding.embed_query(sentence2)\n",
    "embedding3 = embedding.embed_query(sentence3)"
   ]
  },
  {
   "cell_type": "code",
   "execution_count": 6,
   "id": "c64ee29d-7d86-48e5-be12-34d2a08083a4",
   "metadata": {},
   "outputs": [],
   "source": [
    "import numpy as np"
   ]
  },
  {
   "cell_type": "code",
   "execution_count": 7,
   "id": "b00a64f4-6e3e-4c3e-87d5-21b452967105",
   "metadata": {},
   "outputs": [
    {
     "data": {
      "text/plain": [
       "0.9629478572630695"
      ]
     },
     "execution_count": 7,
     "metadata": {},
     "output_type": "execute_result"
    }
   ],
   "source": [
    "np.dot(embedding1, embedding2)"
   ]
  },
  {
   "cell_type": "code",
   "execution_count": 8,
   "id": "6b858b80-497f-4862-bdd1-35642d7be6aa",
   "metadata": {},
   "outputs": [
    {
     "data": {
      "text/plain": [
       "0.7700566174953781"
      ]
     },
     "execution_count": 8,
     "metadata": {},
     "output_type": "execute_result"
    }
   ],
   "source": [
    "np.dot(embedding1, embedding3)"
   ]
  },
  {
   "cell_type": "code",
   "execution_count": 9,
   "id": "760b78b6-8088-4d3b-b5b4-a4a295841c6e",
   "metadata": {},
   "outputs": [
    {
     "data": {
      "text/plain": [
       "0.7588785743809351"
      ]
     },
     "execution_count": 9,
     "metadata": {},
     "output_type": "execute_result"
    }
   ],
   "source": [
    "np.dot(embedding2, embedding3)"
   ]
  },
  {
   "cell_type": "code",
   "execution_count": 11,
   "id": "c24756a1-a46f-4b9d-81be-32281798116e",
   "metadata": {},
   "outputs": [],
   "source": [
    "persist_directory = 'docs/chroma/'"
   ]
  },
  {
   "cell_type": "code",
   "execution_count": 12,
   "id": "cff26b94-384d-412d-9726-3c3674b3ee24",
   "metadata": {},
   "outputs": [
    {
     "name": "stdout",
     "output_type": "stream",
     "text": [
      "No existing database found\n",
      "Successfully removed old database files\n",
      "No existing database found\n"
     ]
    }
   ],
   "source": [
    "import shutil\n",
    "import os\n",
    "\n",
    "# Method 1: Using shutil\n",
    "try:\n",
    "    shutil.rmtree('./docs/chroma')\n",
    "    print(\"Successfully removed old database files\")\n",
    "except FileNotFoundError:\n",
    "    print(\"No existing database found\")\n",
    "\n",
    "# Method 2: Using os\n",
    "try:\n",
    "    os.system('rm -rf ./docs/chroma')\n",
    "    print(\"Successfully removed old database files\")\n",
    "except Exception as e:\n",
    "    print(f\"Error: {e}\")\n",
    "\n",
    "# Method 3: Check if exists first\n",
    "if os.path.exists('./docs/chroma'):\n",
    "    shutil.rmtree('./docs/chroma')\n",
    "    print(\"Successfully removed old database files\")\n",
    "else:\n",
    "    print(\"No existing database found\")"
   ]
  },
  {
   "cell_type": "code",
   "execution_count": 16,
   "id": "2654ae14-b43e-4da9-aeaa-37ebbe9cad16",
   "metadata": {},
   "outputs": [
    {
     "name": "stdout",
     "output_type": "stream",
     "text": [
      "Requirement already satisfied: openai==1.6.1 in f:\\anaconda\\lib\\site-packages (1.6.1)\n",
      "Requirement already satisfied: anyio<5,>=3.5.0 in f:\\anaconda\\lib\\site-packages (from openai==1.6.1) (4.2.0)\n",
      "Requirement already satisfied: distro<2,>=1.7.0 in f:\\anaconda\\lib\\site-packages (from openai==1.6.1) (1.9.0)\n",
      "Requirement already satisfied: httpx<1,>=0.23.0 in f:\\anaconda\\lib\\site-packages (from openai==1.6.1) (0.27.2)\n",
      "Requirement already satisfied: pydantic<3,>=1.9.0 in f:\\anaconda\\lib\\site-packages (from openai==1.6.1) (2.9.2)\n",
      "Requirement already satisfied: sniffio in f:\\anaconda\\lib\\site-packages (from openai==1.6.1) (1.3.0)\n",
      "Requirement already satisfied: tqdm>4 in f:\\anaconda\\lib\\site-packages (from openai==1.6.1) (4.66.4)\n",
      "Requirement already satisfied: typing-extensions<5,>=4.7 in f:\\anaconda\\lib\\site-packages (from openai==1.6.1) (4.11.0)\n",
      "Requirement already satisfied: idna>=2.8 in f:\\anaconda\\lib\\site-packages (from anyio<5,>=3.5.0->openai==1.6.1) (3.7)\n",
      "Requirement already satisfied: certifi in f:\\anaconda\\lib\\site-packages (from httpx<1,>=0.23.0->openai==1.6.1) (2024.6.2)\n",
      "Requirement already satisfied: httpcore==1.* in f:\\anaconda\\lib\\site-packages (from httpx<1,>=0.23.0->openai==1.6.1) (1.0.6)\n",
      "Requirement already satisfied: h11<0.15,>=0.13 in f:\\anaconda\\lib\\site-packages (from httpcore==1.*->httpx<1,>=0.23.0->openai==1.6.1) (0.14.0)\n",
      "Requirement already satisfied: annotated-types>=0.6.0 in f:\\anaconda\\lib\\site-packages (from pydantic<3,>=1.9.0->openai==1.6.1) (0.6.0)\n",
      "Requirement already satisfied: pydantic-core==2.23.4 in f:\\anaconda\\lib\\site-packages (from pydantic<3,>=1.9.0->openai==1.6.1) (2.23.4)\n",
      "Requirement already satisfied: colorama in f:\\anaconda\\lib\\site-packages (from tqdm>4->openai==1.6.1) (0.4.6)\n",
      "Requirement already satisfied: langchain==0.1.6 in f:\\anaconda\\lib\\site-packages (0.1.6)\n",
      "Requirement already satisfied: PyYAML>=5.3 in f:\\anaconda\\lib\\site-packages (from langchain==0.1.6) (6.0.1)\n",
      "Requirement already satisfied: SQLAlchemy<3,>=1.4 in f:\\anaconda\\lib\\site-packages (from langchain==0.1.6) (2.0.30)\n",
      "Requirement already satisfied: aiohttp<4.0.0,>=3.8.3 in f:\\anaconda\\lib\\site-packages (from langchain==0.1.6) (3.9.5)\n",
      "Requirement already satisfied: dataclasses-json<0.7,>=0.5.7 in f:\\anaconda\\lib\\site-packages (from langchain==0.1.6) (0.6.7)\n",
      "Requirement already satisfied: jsonpatch<2.0,>=1.33 in f:\\anaconda\\lib\\site-packages (from langchain==0.1.6) (1.33)\n",
      "Requirement already satisfied: langchain-community<0.1,>=0.0.18 in f:\\anaconda\\lib\\site-packages (from langchain==0.1.6) (0.0.20)\n",
      "Requirement already satisfied: langchain-core<0.2,>=0.1.22 in f:\\anaconda\\lib\\site-packages (from langchain==0.1.6) (0.1.23)\n",
      "Requirement already satisfied: langsmith<0.1,>=0.0.83 in f:\\anaconda\\lib\\site-packages (from langchain==0.1.6) (0.0.87)\n",
      "Requirement already satisfied: numpy<2,>=1 in f:\\anaconda\\lib\\site-packages (from langchain==0.1.6) (1.26.4)\n",
      "Requirement already satisfied: pydantic<3,>=1 in f:\\anaconda\\lib\\site-packages (from langchain==0.1.6) (2.9.2)\n",
      "Requirement already satisfied: requests<3,>=2 in f:\\anaconda\\lib\\site-packages (from langchain==0.1.6) (2.32.2)\n",
      "Requirement already satisfied: tenacity<9.0.0,>=8.1.0 in f:\\anaconda\\lib\\site-packages (from langchain==0.1.6) (8.2.2)\n",
      "Requirement already satisfied: aiosignal>=1.1.2 in f:\\anaconda\\lib\\site-packages (from aiohttp<4.0.0,>=3.8.3->langchain==0.1.6) (1.2.0)\n",
      "Requirement already satisfied: attrs>=17.3.0 in f:\\anaconda\\lib\\site-packages (from aiohttp<4.0.0,>=3.8.3->langchain==0.1.6) (23.1.0)\n",
      "Requirement already satisfied: frozenlist>=1.1.1 in f:\\anaconda\\lib\\site-packages (from aiohttp<4.0.0,>=3.8.3->langchain==0.1.6) (1.4.0)\n",
      "Requirement already satisfied: multidict<7.0,>=4.5 in f:\\anaconda\\lib\\site-packages (from aiohttp<4.0.0,>=3.8.3->langchain==0.1.6) (6.0.4)\n",
      "Requirement already satisfied: yarl<2.0,>=1.0 in f:\\anaconda\\lib\\site-packages (from aiohttp<4.0.0,>=3.8.3->langchain==0.1.6) (1.9.3)\n",
      "Requirement already satisfied: marshmallow<4.0.0,>=3.18.0 in f:\\anaconda\\lib\\site-packages (from dataclasses-json<0.7,>=0.5.7->langchain==0.1.6) (3.23.0)\n",
      "Requirement already satisfied: typing-inspect<1,>=0.4.0 in f:\\anaconda\\lib\\site-packages (from dataclasses-json<0.7,>=0.5.7->langchain==0.1.6) (0.9.0)\n",
      "Requirement already satisfied: jsonpointer>=1.9 in f:\\anaconda\\lib\\site-packages (from jsonpatch<2.0,>=1.33->langchain==0.1.6) (2.1)\n",
      "Requirement already satisfied: anyio<5,>=3 in f:\\anaconda\\lib\\site-packages (from langchain-core<0.2,>=0.1.22->langchain==0.1.6) (4.2.0)\n",
      "Requirement already satisfied: packaging<24.0,>=23.2 in f:\\anaconda\\lib\\site-packages (from langchain-core<0.2,>=0.1.22->langchain==0.1.6) (23.2)\n",
      "Requirement already satisfied: annotated-types>=0.6.0 in f:\\anaconda\\lib\\site-packages (from pydantic<3,>=1->langchain==0.1.6) (0.6.0)\n",
      "Requirement already satisfied: pydantic-core==2.23.4 in f:\\anaconda\\lib\\site-packages (from pydantic<3,>=1->langchain==0.1.6) (2.23.4)\n",
      "Requirement already satisfied: typing-extensions>=4.6.1 in f:\\anaconda\\lib\\site-packages (from pydantic<3,>=1->langchain==0.1.6) (4.11.0)\n",
      "Requirement already satisfied: charset-normalizer<4,>=2 in f:\\anaconda\\lib\\site-packages (from requests<3,>=2->langchain==0.1.6) (2.0.4)\n",
      "Requirement already satisfied: idna<4,>=2.5 in f:\\anaconda\\lib\\site-packages (from requests<3,>=2->langchain==0.1.6) (3.7)\n",
      "Requirement already satisfied: urllib3<3,>=1.21.1 in f:\\anaconda\\lib\\site-packages (from requests<3,>=2->langchain==0.1.6) (2.2.2)\n",
      "Requirement already satisfied: certifi>=2017.4.17 in f:\\anaconda\\lib\\site-packages (from requests<3,>=2->langchain==0.1.6) (2024.6.2)\n",
      "Requirement already satisfied: greenlet!=0.4.17 in f:\\anaconda\\lib\\site-packages (from SQLAlchemy<3,>=1.4->langchain==0.1.6) (3.0.1)\n",
      "Requirement already satisfied: sniffio>=1.1 in f:\\anaconda\\lib\\site-packages (from anyio<5,>=3->langchain-core<0.2,>=0.1.22->langchain==0.1.6) (1.3.0)\n",
      "Requirement already satisfied: mypy-extensions>=0.3.0 in f:\\anaconda\\lib\\site-packages (from typing-inspect<1,>=0.4.0->dataclasses-json<0.7,>=0.5.7->langchain==0.1.6) (1.0.0)\n",
      "Collecting langchain-community==0.0.16\n",
      "  Using cached langchain_community-0.0.16-py3-none-any.whl.metadata (7.8 kB)\n",
      "Requirement already satisfied: PyYAML>=5.3 in f:\\anaconda\\lib\\site-packages (from langchain-community==0.0.16) (6.0.1)\n",
      "Requirement already satisfied: SQLAlchemy<3,>=1.4 in f:\\anaconda\\lib\\site-packages (from langchain-community==0.0.16) (2.0.30)\n",
      "Requirement already satisfied: aiohttp<4.0.0,>=3.8.3 in f:\\anaconda\\lib\\site-packages (from langchain-community==0.0.16) (3.9.5)\n",
      "Requirement already satisfied: dataclasses-json<0.7,>=0.5.7 in f:\\anaconda\\lib\\site-packages (from langchain-community==0.0.16) (0.6.7)\n",
      "Requirement already satisfied: langchain-core<0.2,>=0.1.16 in f:\\anaconda\\lib\\site-packages (from langchain-community==0.0.16) (0.1.23)\n",
      "Requirement already satisfied: langsmith<0.1,>=0.0.83 in f:\\anaconda\\lib\\site-packages (from langchain-community==0.0.16) (0.0.87)\n",
      "Requirement already satisfied: numpy<2,>=1 in f:\\anaconda\\lib\\site-packages (from langchain-community==0.0.16) (1.26.4)\n",
      "Requirement already satisfied: requests<3,>=2 in f:\\anaconda\\lib\\site-packages (from langchain-community==0.0.16) (2.32.2)\n",
      "Requirement already satisfied: tenacity<9.0.0,>=8.1.0 in f:\\anaconda\\lib\\site-packages (from langchain-community==0.0.16) (8.2.2)\n",
      "Requirement already satisfied: aiosignal>=1.1.2 in f:\\anaconda\\lib\\site-packages (from aiohttp<4.0.0,>=3.8.3->langchain-community==0.0.16) (1.2.0)\n",
      "Requirement already satisfied: attrs>=17.3.0 in f:\\anaconda\\lib\\site-packages (from aiohttp<4.0.0,>=3.8.3->langchain-community==0.0.16) (23.1.0)\n",
      "Requirement already satisfied: frozenlist>=1.1.1 in f:\\anaconda\\lib\\site-packages (from aiohttp<4.0.0,>=3.8.3->langchain-community==0.0.16) (1.4.0)\n",
      "Requirement already satisfied: multidict<7.0,>=4.5 in f:\\anaconda\\lib\\site-packages (from aiohttp<4.0.0,>=3.8.3->langchain-community==0.0.16) (6.0.4)\n",
      "Requirement already satisfied: yarl<2.0,>=1.0 in f:\\anaconda\\lib\\site-packages (from aiohttp<4.0.0,>=3.8.3->langchain-community==0.0.16) (1.9.3)\n",
      "Requirement already satisfied: marshmallow<4.0.0,>=3.18.0 in f:\\anaconda\\lib\\site-packages (from dataclasses-json<0.7,>=0.5.7->langchain-community==0.0.16) (3.23.0)\n",
      "Requirement already satisfied: typing-inspect<1,>=0.4.0 in f:\\anaconda\\lib\\site-packages (from dataclasses-json<0.7,>=0.5.7->langchain-community==0.0.16) (0.9.0)\n",
      "Requirement already satisfied: anyio<5,>=3 in f:\\anaconda\\lib\\site-packages (from langchain-core<0.2,>=0.1.16->langchain-community==0.0.16) (4.2.0)\n",
      "Requirement already satisfied: jsonpatch<2.0,>=1.33 in f:\\anaconda\\lib\\site-packages (from langchain-core<0.2,>=0.1.16->langchain-community==0.0.16) (1.33)\n",
      "Requirement already satisfied: packaging<24.0,>=23.2 in f:\\anaconda\\lib\\site-packages (from langchain-core<0.2,>=0.1.16->langchain-community==0.0.16) (23.2)\n",
      "Requirement already satisfied: pydantic<3,>=1 in f:\\anaconda\\lib\\site-packages (from langchain-core<0.2,>=0.1.16->langchain-community==0.0.16) (2.9.2)\n",
      "Requirement already satisfied: charset-normalizer<4,>=2 in f:\\anaconda\\lib\\site-packages (from requests<3,>=2->langchain-community==0.0.16) (2.0.4)\n",
      "Requirement already satisfied: idna<4,>=2.5 in f:\\anaconda\\lib\\site-packages (from requests<3,>=2->langchain-community==0.0.16) (3.7)\n",
      "Requirement already satisfied: urllib3<3,>=1.21.1 in f:\\anaconda\\lib\\site-packages (from requests<3,>=2->langchain-community==0.0.16) (2.2.2)\n",
      "Requirement already satisfied: certifi>=2017.4.17 in f:\\anaconda\\lib\\site-packages (from requests<3,>=2->langchain-community==0.0.16) (2024.6.2)\n",
      "Requirement already satisfied: typing-extensions>=4.6.0 in f:\\anaconda\\lib\\site-packages (from SQLAlchemy<3,>=1.4->langchain-community==0.0.16) (4.11.0)\n",
      "Requirement already satisfied: greenlet!=0.4.17 in f:\\anaconda\\lib\\site-packages (from SQLAlchemy<3,>=1.4->langchain-community==0.0.16) (3.0.1)\n",
      "Requirement already satisfied: sniffio>=1.1 in f:\\anaconda\\lib\\site-packages (from anyio<5,>=3->langchain-core<0.2,>=0.1.16->langchain-community==0.0.16) (1.3.0)\n",
      "Requirement already satisfied: jsonpointer>=1.9 in f:\\anaconda\\lib\\site-packages (from jsonpatch<2.0,>=1.33->langchain-core<0.2,>=0.1.16->langchain-community==0.0.16) (2.1)\n",
      "Requirement already satisfied: annotated-types>=0.6.0 in f:\\anaconda\\lib\\site-packages (from pydantic<3,>=1->langchain-core<0.2,>=0.1.16->langchain-community==0.0.16) (0.6.0)\n",
      "Requirement already satisfied: pydantic-core==2.23.4 in f:\\anaconda\\lib\\site-packages (from pydantic<3,>=1->langchain-core<0.2,>=0.1.16->langchain-community==0.0.16) (2.23.4)\n",
      "Requirement already satisfied: mypy-extensions>=0.3.0 in f:\\anaconda\\lib\\site-packages (from typing-inspect<1,>=0.4.0->dataclasses-json<0.7,>=0.5.7->langchain-community==0.0.16) (1.0.0)\n",
      "Using cached langchain_community-0.0.16-py3-none-any.whl (1.6 MB)\n",
      "Installing collected packages: langchain-community\n",
      "  Attempting uninstall: langchain-community\n",
      "    Found existing installation: langchain-community 0.0.20\n",
      "    Uninstalling langchain-community-0.0.20:\n",
      "      Successfully uninstalled langchain-community-0.0.20\n",
      "Successfully installed langchain-community-0.0.16\n"
     ]
    },
    {
     "name": "stderr",
     "output_type": "stream",
     "text": [
      "ERROR: pip's dependency resolver does not currently take into account all the packages that are installed. This behaviour is the source of the following dependency conflicts.\n",
      "langchain 0.1.6 requires langchain-community<0.1,>=0.0.18, but you have langchain-community 0.0.16 which is incompatible.\n"
     ]
    },
    {
     "name": "stdout",
     "output_type": "stream",
     "text": [
      "Requirement already satisfied: langchain-openai==0.0.5 in f:\\anaconda\\lib\\site-packages (0.0.5)\n",
      "Requirement already satisfied: langchain-core<0.2,>=0.1.16 in f:\\anaconda\\lib\\site-packages (from langchain-openai==0.0.5) (0.1.23)\n",
      "Requirement already satisfied: numpy<2,>=1 in f:\\anaconda\\lib\\site-packages (from langchain-openai==0.0.5) (1.26.4)\n",
      "Collecting openai<2.0.0,>=1.10.0 (from langchain-openai==0.0.5)\n",
      "  Using cached openai-1.52.1-py3-none-any.whl.metadata (24 kB)\n",
      "Requirement already satisfied: tiktoken<0.6.0,>=0.5.2 in f:\\anaconda\\lib\\site-packages (from langchain-openai==0.0.5) (0.5.2)\n",
      "Requirement already satisfied: PyYAML>=5.3 in f:\\anaconda\\lib\\site-packages (from langchain-core<0.2,>=0.1.16->langchain-openai==0.0.5) (6.0.1)\n",
      "Requirement already satisfied: anyio<5,>=3 in f:\\anaconda\\lib\\site-packages (from langchain-core<0.2,>=0.1.16->langchain-openai==0.0.5) (4.2.0)\n",
      "Requirement already satisfied: jsonpatch<2.0,>=1.33 in f:\\anaconda\\lib\\site-packages (from langchain-core<0.2,>=0.1.16->langchain-openai==0.0.5) (1.33)\n",
      "Requirement already satisfied: langsmith<0.0.88,>=0.0.87 in f:\\anaconda\\lib\\site-packages (from langchain-core<0.2,>=0.1.16->langchain-openai==0.0.5) (0.0.87)\n",
      "Requirement already satisfied: packaging<24.0,>=23.2 in f:\\anaconda\\lib\\site-packages (from langchain-core<0.2,>=0.1.16->langchain-openai==0.0.5) (23.2)\n",
      "Requirement already satisfied: pydantic<3,>=1 in f:\\anaconda\\lib\\site-packages (from langchain-core<0.2,>=0.1.16->langchain-openai==0.0.5) (2.9.2)\n",
      "Requirement already satisfied: requests<3,>=2 in f:\\anaconda\\lib\\site-packages (from langchain-core<0.2,>=0.1.16->langchain-openai==0.0.5) (2.32.2)\n",
      "Requirement already satisfied: tenacity<9.0.0,>=8.1.0 in f:\\anaconda\\lib\\site-packages (from langchain-core<0.2,>=0.1.16->langchain-openai==0.0.5) (8.2.2)\n",
      "Requirement already satisfied: distro<2,>=1.7.0 in f:\\anaconda\\lib\\site-packages (from openai<2.0.0,>=1.10.0->langchain-openai==0.0.5) (1.9.0)\n",
      "Requirement already satisfied: httpx<1,>=0.23.0 in f:\\anaconda\\lib\\site-packages (from openai<2.0.0,>=1.10.0->langchain-openai==0.0.5) (0.27.2)\n",
      "Requirement already satisfied: jiter<1,>=0.4.0 in f:\\anaconda\\lib\\site-packages (from openai<2.0.0,>=1.10.0->langchain-openai==0.0.5) (0.6.1)\n",
      "Requirement already satisfied: sniffio in f:\\anaconda\\lib\\site-packages (from openai<2.0.0,>=1.10.0->langchain-openai==0.0.5) (1.3.0)\n",
      "Requirement already satisfied: tqdm>4 in f:\\anaconda\\lib\\site-packages (from openai<2.0.0,>=1.10.0->langchain-openai==0.0.5) (4.66.4)\n",
      "Requirement already satisfied: typing-extensions<5,>=4.11 in f:\\anaconda\\lib\\site-packages (from openai<2.0.0,>=1.10.0->langchain-openai==0.0.5) (4.11.0)\n",
      "Requirement already satisfied: regex>=2022.1.18 in f:\\anaconda\\lib\\site-packages (from tiktoken<0.6.0,>=0.5.2->langchain-openai==0.0.5) (2023.10.3)\n",
      "Requirement already satisfied: idna>=2.8 in f:\\anaconda\\lib\\site-packages (from anyio<5,>=3->langchain-core<0.2,>=0.1.16->langchain-openai==0.0.5) (3.7)\n",
      "Requirement already satisfied: certifi in f:\\anaconda\\lib\\site-packages (from httpx<1,>=0.23.0->openai<2.0.0,>=1.10.0->langchain-openai==0.0.5) (2024.6.2)\n",
      "Requirement already satisfied: httpcore==1.* in f:\\anaconda\\lib\\site-packages (from httpx<1,>=0.23.0->openai<2.0.0,>=1.10.0->langchain-openai==0.0.5) (1.0.6)\n",
      "Requirement already satisfied: h11<0.15,>=0.13 in f:\\anaconda\\lib\\site-packages (from httpcore==1.*->httpx<1,>=0.23.0->openai<2.0.0,>=1.10.0->langchain-openai==0.0.5) (0.14.0)\n",
      "Requirement already satisfied: jsonpointer>=1.9 in f:\\anaconda\\lib\\site-packages (from jsonpatch<2.0,>=1.33->langchain-core<0.2,>=0.1.16->langchain-openai==0.0.5) (2.1)\n",
      "Requirement already satisfied: annotated-types>=0.6.0 in f:\\anaconda\\lib\\site-packages (from pydantic<3,>=1->langchain-core<0.2,>=0.1.16->langchain-openai==0.0.5) (0.6.0)\n",
      "Requirement already satisfied: pydantic-core==2.23.4 in f:\\anaconda\\lib\\site-packages (from pydantic<3,>=1->langchain-core<0.2,>=0.1.16->langchain-openai==0.0.5) (2.23.4)\n",
      "Requirement already satisfied: charset-normalizer<4,>=2 in f:\\anaconda\\lib\\site-packages (from requests<3,>=2->langchain-core<0.2,>=0.1.16->langchain-openai==0.0.5) (2.0.4)\n",
      "Requirement already satisfied: urllib3<3,>=1.21.1 in f:\\anaconda\\lib\\site-packages (from requests<3,>=2->langchain-core<0.2,>=0.1.16->langchain-openai==0.0.5) (2.2.2)\n",
      "Requirement already satisfied: colorama in f:\\anaconda\\lib\\site-packages (from tqdm>4->openai<2.0.0,>=1.10.0->langchain-openai==0.0.5) (0.4.6)\n",
      "Using cached openai-1.52.1-py3-none-any.whl (386 kB)\n",
      "Installing collected packages: openai\n",
      "  Attempting uninstall: openai\n",
      "    Found existing installation: openai 1.6.1\n",
      "    Uninstalling openai-1.6.1:\n",
      "      Successfully uninstalled openai-1.6.1\n",
      "Successfully installed openai-1.52.1\n",
      "Requirement already satisfied: pypdf in f:\\anaconda\\lib\\site-packages (5.0.1)\n",
      "Requirement already satisfied: numpy in f:\\anaconda\\lib\\site-packages (1.26.4)\n"
     ]
    }
   ],
   "source": [
    "!pip install openai==1.6.1\n",
    "!pip install langchain==0.1.6\n",
    "!pip install langchain-community==0.0.16\n",
    "!pip install langchain-openai==0.0.5\n",
    "!pip install pypdf\n",
    "!pip install numpy"
   ]
  },
  {
   "cell_type": "code",
   "execution_count": 17,
   "id": "89f44dd9-1f9e-49cc-9a58-225f4ae07de4",
   "metadata": {},
   "outputs": [],
   "source": [
    "from langchain_openai import AzureOpenAIEmbeddings\n",
    "from langchain.text_splitter import RecursiveCharacterTextSplitter\n",
    "from pypdf import PdfReader\n",
    "import numpy as np\n",
    "from typing import List, Tuple\n",
    "import os\n",
    "import json\n",
    "\n",
    "class SimpleVectorStore:\n",
    "    def __init__(self, embeddings):\n",
    "        self.embeddings = embeddings\n",
    "        self.texts = []\n",
    "        self.vectors = []\n",
    "    \n",
    "    def add_texts(self, texts: List[str]):\n",
    "        print(f\"Processing {len(texts)} text chunks...\")\n",
    "        for i, text in enumerate(texts, 1):\n",
    "            vector = self.embeddings.embed_query(text)\n",
    "            self.vectors.append(vector)\n",
    "            self.texts.append(text)\n",
    "            if i % 10 == 0:\n",
    "                print(f\"Processed {i}/{len(texts)} chunks\")\n",
    "    \n",
    "    def similarity_search(self, query: str, k: int = 4) -> List[Tuple[str, float]]:\n",
    "        query_vector = self.embeddings.embed_query(query)\n",
    "        similarities = [np.dot(query_vector, vec) / (np.linalg.norm(query_vector) * np.linalg.norm(vec)) \n",
    "                       for vec in self.vectors]\n",
    "        \n",
    "        sorted_indices = np.argsort(similarities)[::-1][:k]\n",
    "        return [(self.texts[i], similarities[i]) for i in sorted_indices]\n",
    "    \n",
    "    def save(self, directory: str):\n",
    "        os.makedirs(directory, exist_ok=True)\n",
    "        data = {\n",
    "            'texts': self.texts,\n",
    "            'vectors': [v.tolist() for v in self.vectors]\n",
    "        }\n",
    "        with open(os.path.join(directory, 'vector_store.json'), 'w') as f:\n",
    "            json.dump(data, f)\n",
    "    \n",
    "    def load(self, directory: str):\n",
    "        with open(os.path.join(directory, 'vector_store.json'), 'r') as f:\n",
    "            data = json.load(f)\n",
    "        self.texts = data['texts']\n",
    "        self.vectors = [np.array(v) for v in data['vectors']]"
   ]
  },
  {
   "cell_type": "code",
   "execution_count": 20,
   "id": "389b4e13-8e74-4beb-a327-9573f23e7b3a",
   "metadata": {},
   "outputs": [
    {
     "name": "stdout",
     "output_type": "stream",
     "text": [
      "Initializing Azure OpenAI embeddings...\n",
      "✓ Azure OpenAI connection successful!\n",
      "✓ Embedding dimension: 1536\n"
     ]
    }
   ],
   "source": [
    "# Initialize embeddings\n",
    "print(\"Initializing Azure OpenAI embeddings...\")\n",
    "embeddings = AzureOpenAIEmbeddings(\n",
    "    api_key=\"Type your OPENAI API key here\",          # Your existing API key\n",
    "    azure_endpoint=\"Type your OPENAI ENDPOINT here\",    # Your existing endpoint\n",
    "    deployment=\"text-embedding-ada-002\",    # Use the deployment name you created for embeddings\n",
    "    api_version=\"2023-05-15\"\n",
    ")\n",
    "\n",
    "# Test embeddings\n",
    "test_text = \"Testing Azure OpenAI connection\"\n",
    "try:\n",
    "    test_embedding = embeddings.embed_query(test_text)\n",
    "    print(\"✓ Azure OpenAI connection successful!\")\n",
    "    print(f\"✓ Embedding dimension: {len(test_embedding)}\")\n",
    "except Exception as e:\n",
    "    print(f\"❌ Error connecting to Azure OpenAI: {str(e)}\")\n",
    "    print(\"\\nPlease check:\")\n",
    "    print(\"1. API key is correct\")\n",
    "    print(\"2. Endpoint URL is correct\")\n",
    "    print(\"3. You have created a deployment using 'text-embedding-ada-002' model\")"
   ]
  },
  {
   "cell_type": "code",
   "execution_count": 21,
   "id": "b2d84ade-ed28-41d1-a274-e9130ce41906",
   "metadata": {},
   "outputs": [],
   "source": [
    "import numpy as np\n",
    "from typing import List, Tuple\n",
    "import os\n",
    "import json\n",
    "\n",
    "class SimpleVectorStore:\n",
    "    def __init__(self, embeddings):\n",
    "        self.embeddings = embeddings\n",
    "        self.texts = []\n",
    "        self.vectors = []\n",
    "    \n",
    "    def add_texts(self, texts: List[str]):\n",
    "        print(f\"Processing {len(texts)} text chunks...\")\n",
    "        for i, text in enumerate(texts, 1):\n",
    "            vector = self.embeddings.embed_query(text)\n",
    "            self.vectors.append(vector)\n",
    "            self.texts.append(text)\n",
    "            if i % 10 == 0:\n",
    "                print(f\"Processed {i}/{len(texts)} chunks\")\n",
    "    \n",
    "    def similarity_search(self, query: str, k: int = 4) -> List[Tuple[str, float]]:\n",
    "        query_vector = self.embeddings.embed_query(query)\n",
    "        similarities = [np.dot(query_vector, vec) / (np.linalg.norm(query_vector) * np.linalg.norm(vec)) \n",
    "                       for vec in self.vectors]\n",
    "        \n",
    "        sorted_indices = np.argsort(similarities)[::-1][:k]\n",
    "        return [(self.texts[i], similarities[i]) for i in sorted_indices]"
   ]
  },
  {
   "cell_type": "code",
   "execution_count": 22,
   "id": "97324b18-d0a0-48e2-a705-ba1834e9250f",
   "metadata": {},
   "outputs": [
    {
     "name": "stdout",
     "output_type": "stream",
     "text": [
      "Reading PDF...\n",
      "Processed page 1/22\n",
      "Processed page 2/22\n",
      "Processed page 3/22\n",
      "Processed page 4/22\n",
      "Processed page 5/22\n",
      "Processed page 6/22\n",
      "Processed page 7/22\n",
      "Processed page 8/22\n",
      "Processed page 9/22\n",
      "Processed page 10/22\n",
      "Processed page 11/22\n",
      "Processed page 12/22\n",
      "Processed page 13/22\n",
      "Processed page 14/22\n",
      "Processed page 15/22\n",
      "Processed page 16/22\n",
      "Processed page 17/22\n",
      "Processed page 18/22\n",
      "Processed page 19/22\n",
      "Processed page 20/22\n",
      "Processed page 21/22\n",
      "Processed page 22/22\n",
      "✓ PDF text extracted\n",
      "\n",
      "Splitting text...\n",
      "✓ Split into 70 chunks\n",
      "\n",
      "Creating vector store...\n",
      "Processing 70 text chunks...\n",
      "Processed 10/70 chunks\n",
      "Processed 20/70 chunks\n",
      "Processed 30/70 chunks\n",
      "Processed 40/70 chunks\n",
      "Processed 50/70 chunks\n",
      "Processed 60/70 chunks\n",
      "Processed 70/70 chunks\n",
      "✓ Vector store created\n"
     ]
    }
   ],
   "source": [
    "from langchain_openai import AzureOpenAIEmbeddings\n",
    "from langchain.text_splitter import RecursiveCharacterTextSplitter\n",
    "from pypdf import PdfReader\n",
    "\n",
    "# Initialize embeddings (use your working configuration)\n",
    "embeddings = AzureOpenAIEmbeddings(\n",
    "    api_key=\"Type your OPENAI API key here\",          \n",
    "    azure_endpoint=\"Type your OPENAI ENDPOINT here\",    \n",
    "    deployment=\"text-embedding-ada-002\",    \n",
    "    api_version=\"2023-05-15\"\n",
    ")\n",
    "\n",
    "# Read PDF\n",
    "print(\"Reading PDF...\")\n",
    "pdf_path = \"MachineLearning-Lecture01.pdf\"  # Make sure this path is correct\n",
    "pdf = PdfReader(pdf_path)\n",
    "\n",
    "# Extract text\n",
    "text = \"\"\n",
    "for page_num, page in enumerate(pdf.pages, 1):\n",
    "    text += page.extract_text()\n",
    "    print(f\"Processed page {page_num}/{len(pdf.pages)}\")\n",
    "print(\"✓ PDF text extracted\")\n",
    "\n",
    "# Split text\n",
    "print(\"\\nSplitting text...\")\n",
    "text_splitter = RecursiveCharacterTextSplitter(\n",
    "    chunk_size=1000,\n",
    "    chunk_overlap=100\n",
    ")\n",
    "texts = text_splitter.split_text(text)\n",
    "print(f\"✓ Split into {len(texts)} chunks\")\n",
    "\n",
    "# Create vector store\n",
    "print(\"\\nCreating vector store...\")\n",
    "vectorstore = SimpleVectorStore(embeddings)\n",
    "vectorstore.add_texts(texts)\n",
    "print(\"✓ Vector store created\")"
   ]
  },
  {
   "cell_type": "code",
   "execution_count": null,
   "id": "3182a4d3-ed5c-4ace-808d-1842758bcf9d",
   "metadata": {},
   "outputs": [],
   "source": []
  }
 ],
 "metadata": {
  "kernelspec": {
   "display_name": "Python 3 (ipykernel)",
   "language": "python",
   "name": "python3"
  },
  "language_info": {
   "codemirror_mode": {
    "name": "ipython",
    "version": 3
   },
   "file_extension": ".py",
   "mimetype": "text/x-python",
   "name": "python",
   "nbconvert_exporter": "python",
   "pygments_lexer": "ipython3",
   "version": "3.12.4"
  }
 },
 "nbformat": 4,
 "nbformat_minor": 5
}
